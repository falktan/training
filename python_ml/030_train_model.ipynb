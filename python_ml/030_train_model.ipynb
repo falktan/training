{
 "cells": [
  {
   "cell_type": "code",
   "execution_count": 1,
   "metadata": {},
   "outputs": [],
   "source": [
    "\n",
    "#  Define and load everything we need so that this\n",
    "#  tutorial is complete by itself.\n",
    "\n",
    "import scipy as sp \n",
    "import numpy as np \n",
    "import matplotlib as mpl \n",
    "import pandas as pd \n",
    "import sklearn \n",
    "\n",
    "from pandas.plotting import scatter_matrix\n",
    "import matplotlib.pyplot as plt\n",
    "import seaborn as sns\n",
    "from sklearn import model_selection\n",
    "from sklearn.metrics import classification_report\n",
    "from sklearn.metrics import confusion_matrix\n",
    "from sklearn.metrics import accuracy_score\n",
    "from sklearn.linear_model import LogisticRegression\n",
    "from sklearn.tree import DecisionTreeClassifier\n",
    "from sklearn.neighbors import KNeighborsClassifier\n",
    "from sklearn.discriminant_analysis import LinearDiscriminantAnalysis\n",
    "from sklearn.naive_bayes import GaussianNB\n",
    "from sklearn.svm import SVC\n",
    "\n",
    "#  Enable inline plotting from matplotlib\n",
    "\n",
    "%matplotlib inline"
   ]
  },
  {
   "cell_type": "code",
   "execution_count": 2,
   "metadata": {},
   "outputs": [],
   "source": [
    "\n",
    "url = \"https://archive.ics.uci.edu/ml/machine-learning-databases/iris/iris.data\"\n",
    "\n",
    "#  Define the names of the variables as we want them\n",
    "\n",
    "names = ['sepal-length', 'sepal-width', 'petal-length', 'petal-width', 'species']\n",
    "iris = pd.read_csv(url, names=names)"
   ]
  },
  {
   "cell_type": "code",
   "execution_count": 3,
   "metadata": {},
   "outputs": [],
   "source": [
    "print(iris.shape)"
   ]
  },
  {
   "cell_type": "code",
   "execution_count": 3,
   "metadata": {},
   "outputs": [],
   "source": [
    "print(iris.head())"
   ]
  },
  {
   "cell_type": "code",
   "execution_count": 3,
   "metadata": {},
   "outputs": [],
   "source": [
    "print(iris.describe())#  Use the groupby method to determine the class distribution"
   ]
  },
  {
   "cell_type": "code",
   "execution_count": 4,
   "metadata": {},
   "outputs": [
    {
     "name": "stdout",
     "output_type": "stream",
     "text": [
      "species\n",
      "Iris-setosa        50\n",
      "Iris-versicolor    50\n",
      "Iris-virginica     50\n",
      "dtype: int64\n"
     ]
    }
   ],
   "source": [
    "print(iris.groupby('species').size())"
   ]
  },
  {
   "cell_type": "code",
   "execution_count": 5,
   "metadata": {},
   "outputs": [
    {
     "name": "stdout",
     "output_type": "stream",
     "text": [
      "<class 'numpy.ndarray'>\n"
     ]
    }
   ],
   "source": [
    "#  Convert from pandas dataframe to numpy array\n",
    "#  Most of the scikit-learn libraries expect numpy arrays.\n",
    "array = iris.values\n",
    "print (type(array))"
   ]
  },
  {
   "cell_type": "code",
   "execution_count": null,
   "metadata": {},
   "outputs": [],
   "source": [
    "#  From the charts, it appears that Iris-setosa can be separated by a straight line.  \n",
    "#  We will test machine learning of one-versus-others by defining the target to \n",
    "#  be +1 for Iris-setosa, 0 for all others\n",
    "#  Use all rows, column 4, to create vector raw_target.\n",
    "raw_target = array[:,4]\n",
    "#  Use all rows f raw_target to create the y array,\n",
    "#  setting the rows that are Iris-setosa to +1, all others to 0.\n",
    "y = np.where(raw_target == 'Iris-virginica', 1, 0)\n",
    "print (y)"
   ]
  },
  {
   "cell_type": "code",
   "execution_count": null,
   "metadata": {},
   "outputs": [],
   "source": [
    "\n",
    "#  Split the data into feature variables, X, and target variable, y\n",
    "#  Feature variables are in the first four columns -- indexes 0,1,2,3\n",
    "#  Target variable is in column 4\n",
    "\n",
    "#  Note the use of upper case X and lower case y.\n",
    "#  This is the convention used to distinguish between matrices, X, \n",
    "#  and vectors, y, as the expression describing the model is AX = y.\n",
    "\n",
    "#  Use all rows, columns 0, 1, 2, 3.\n",
    "X = array[:,0:4]\n",
    "\n",
    "#  Expect X to be 150 rows, 4 columns\n",
    "print (type(X))\n",
    "print ('Dimensions of X: ', X.shape)\n",
    "\n",
    "#  We converted the labels to 0/1 integers in the cell above\n",
    "#  Expect y to be 150 rows, 1 column\n",
    "print (type(y))\n",
    "print ('Dimensions of y: ', y.shape)"
   ]
  },
  {
   "cell_type": "code",
   "execution_count": null,
   "metadata": {},
   "outputs": [],
   "source": [
    "\n",
    "#  Split the data into training and test sets\n",
    "#  Selection is made by randomly choosing rows.\n",
    "#  Test data is 20% of the total number of rows -- 30 rows.\n",
    "\n",
    "test_size = 0.20\n",
    "seed = 7\n",
    "X_train, X_test, y_train, y_test = \\\n",
    "    model_selection.train_test_split(X, y, test_size=test_size, random_state=seed)\n",
    "    \n",
    "print ('Dimensions of X_train: ', X_train.shape)\n",
    "print ('Dimensions of X_test:  ', X_test.shape)\n",
    "print ('Dimensions of y_train: ', y_train.shape)\n",
    "print ('Dimensions of y_test:  ', y_test.shape)\n",
    "print ('Head of X_train: \\n', X_train[:10])\n",
    "print ('Head of X_test:  \\n', X_test[:10])\n",
    "print ('Head of y_train: ', y_train[:10])\n",
    "print ('Head of y_test:  ', y_test[:10])"
   ]
  },
  {
   "cell_type": "code",
   "execution_count": null,
   "metadata": {},
   "outputs": [],
   "source": [
    "\n",
    "model = LogisticRegression(solver='lbfgs')\n",
    "model.fit(X_train,y_train)\n",
    "y_pred = model.predict(X_test)\n",
    "cm = confusion_matrix(y_pred,y_test)\n",
    "print ('                        Predicted')\n",
    "print ('                   Positive','Negative')\n",
    "print ('Actually Positive (1): ', cm[1,1], '    ', cm[1,0])\n",
    "print ('Actually Negative (0): ', cm[0,1], '    ', cm[0,0])"
   ]
  },
  {
   "cell_type": "code",
   "execution_count": null,
   "metadata": {},
   "outputs": [],
   "source": []
  }
 ],
 "metadata": {
  "kernelspec": {
   "display_name": "Python 3",
   "language": "python",
   "name": "python3"
  },
  "language_info": {
   "codemirror_mode": {
    "name": "ipython",
    "version": 3
   },
   "file_extension": ".py",
   "mimetype": "text/x-python",
   "name": "python",
   "nbconvert_exporter": "python",
   "pygments_lexer": "ipython3",
   "version": "3.7.8"
  }
 },
 "nbformat": 4,
 "nbformat_minor": 4
}
